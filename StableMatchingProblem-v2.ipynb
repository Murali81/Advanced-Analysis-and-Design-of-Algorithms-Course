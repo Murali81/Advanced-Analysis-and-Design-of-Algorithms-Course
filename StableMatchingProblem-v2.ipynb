{
 "cells": [
  {
   "cell_type": "code",
   "execution_count": 382,
   "metadata": {},
   "outputs": [],
   "source": [
    "pw=[[0,1,2],[1,0,2],[0,2,1]]\n",
    "pm=[[2,0,1],[1,0,2],[2,1,0]]\n",
    "# pw=[[0,1],[1,0]]\n",
    "# pm=[[1,0],[0,1]]\n"
   ]
  },
  {
   "cell_type": "code",
   "execution_count": 383,
   "metadata": {},
   "outputs": [],
   "source": [
    "men=[-1]*3\n",
    "women=[-1]*3\n"
   ]
  },
  {
   "cell_type": "markdown",
   "metadata": {},
   "source": [
    "## Using Gale-Shapley algorithm"
   ]
  },
  {
   "cell_type": "code",
   "execution_count": 384,
   "metadata": {},
   "outputs": [
    {
     "name": "stdout",
     "output_type": "stream",
     "text": [
      "[2, 0, 1]\n",
      "1 th male is engaged to  3 th women\n",
      "[1, 0, 2]\n",
      "2 th male is engaged to  2 th women\n",
      "[2, 1, 0]\n",
      "3 th male proposed  3 th women but she likes  0  th male more with whom she is engaged\n",
      "3 th male proposed  2 th women but she likes  1  th male more with whom she is engaged\n",
      "3 th male is engaged to  1 th women\n"
     ]
    }
   ],
   "source": [
    "engagements=0\n",
    "n=len(men)\n",
    "while engagements<n:\n",
    "    maleindex=0\n",
    "    for maleindex in range(len(men)):\n",
    "        if men[maleindex]==-1:\n",
    "            break\n",
    "    manpreflist=pm[maleindex]\n",
    "    print(manpreflist)\n",
    "    for womenindex in manpreflist:\n",
    "        if men[maleindex]!=-1:\n",
    "            break\n",
    "        prefwoman=women[womenindex]\n",
    "        if women[womenindex]==-1:\n",
    "            engagements+=1\n",
    "            women[womenindex]=maleindex\n",
    "            men[maleindex]=womenindex\n",
    "            print(maleindex+1,\"th male is engaged to \",womenindex+1,\"th women\")\n",
    "        else:\n",
    "            Womengedmale=women[womenindex]\n",
    "            if pw[womenindex].index(Womengedmale) < pw[womenindex].index(maleindex):  #It means more priority\n",
    "                print(maleindex+1,\"th male proposed \",womenindex+1,\"th women but she likes \",Womengedmale ,\" th male more with whom she is engaged\")\n",
    "                pass\n",
    "            else:\n",
    "                women[womenindex]=maleindex\n",
    "                men[maleindex]=womenindex\n",
    "                men[Womengedmale]=-1\n",
    "                print(maleindex+1,\"th male is engaged to \",womenindex+1,\"th women\")\n",
    "\n",
    "\n",
    "                \n",
    "        "
   ]
  },
  {
   "cell_type": "code",
   "execution_count": 385,
   "metadata": {},
   "outputs": [
    {
     "name": "stdout",
     "output_type": "stream",
     "text": [
      "[2, 1, 0]\n",
      "[2, 1, 0]\n"
     ]
    }
   ],
   "source": [
    "print(men)\n",
    "print(women)"
   ]
  },
  {
   "cell_type": "code",
   "execution_count": 386,
   "metadata": {},
   "outputs": [],
   "source": [
    "pw=[[0,1,2],[1,0,2],[0,2,1]]\n",
    "pm=[[2,0,1],[1,0,2],[2,1,0]]"
   ]
  },
  {
   "cell_type": "code",
   "execution_count": 387,
   "metadata": {},
   "outputs": [],
   "source": [
    "men=[-1]*3\n",
    "women=[-1]*3\n"
   ]
  },
  {
   "cell_type": "code",
   "execution_count": 388,
   "metadata": {},
   "outputs": [
    {
     "name": "stdout",
     "output_type": "stream",
     "text": [
      "[2, 0, 1]\n",
      "1 th male is engaged to  3 th women\n",
      "[1, 0, 2]\n",
      "2 th male is engaged to  2 th women\n",
      "[2, 1, 0]\n",
      "3 th male proposed  3 th women but she likes  0  th male more with whom she is engaged\n",
      "3 th male proposed  2 th women but she likes  1  th male more with whom she is engaged\n",
      "3 th male is engaged to  1 th women\n",
      "[2, 1, 0]\n",
      "Stable\n"
     ]
    }
   ],
   "source": [
    "engagements=0\n",
    "n=len(men)\n",
    "\n",
    "mflag=0 #  flag showing that all are married \n",
    "\n",
    "while mflag==0:\n",
    "    mflag=1\n",
    "    maleindex=0\n",
    "    for maleindex in range(len(men)):\n",
    "        if men[maleindex]==-1:\n",
    "            mflag=0\n",
    "            break\n",
    "        \n",
    "    manpreflist=pm[maleindex]\n",
    "    print(manpreflist)\n",
    "    for womenindex in manpreflist:\n",
    "        if men[maleindex]!=-1:\n",
    "            break\n",
    "        prefwoman=women[womenindex]\n",
    "        if women[womenindex]==-1:\n",
    "            engagements+=1\n",
    "            women[womenindex]=maleindex\n",
    "            men[maleindex]=womenindex\n",
    "            print(maleindex+1,\"th male is engaged to \",womenindex+1,\"th women\")\n",
    "        else:\n",
    "            Womengedmale=women[womenindex]\n",
    "            if pw[womenindex].index(Womengedmale) < pw[womenindex].index(maleindex):  #It means more priority\n",
    "                print(maleindex+1,\"th male proposed \",womenindex+1,\"th women but she likes \",Womengedmale ,\" th male more with whom she is engaged\")\n",
    "                pass\n",
    "            else:\n",
    "                women[womenindex]=maleindex\n",
    "                men[maleindex]=womenindex\n",
    "                men[Womengedmale]=-1\n",
    "                print(maleindex+1,\"th male is engaged to \",womenindex+1,\"th women\")\n",
    "\n",
    "\n",
    "print(\"Stable\")                \n",
    "        "
   ]
  },
  {
   "cell_type": "code",
   "execution_count": 389,
   "metadata": {},
   "outputs": [],
   "source": [
    "pw=[[0,1,2],[1,0,2],[0,2,1]]\n",
    "pm=[[2,0,1],[1,0,2],[2,1,0]]\n",
    "\n",
    "# pw=[[0,1],[1,0]]\n",
    "# pm=[[1,0],[0,1]]"
   ]
  },
  {
   "cell_type": "code",
   "execution_count": 390,
   "metadata": {},
   "outputs": [],
   "source": [
    "men=[-1]*3\n",
    "women=[-1]*3"
   ]
  },
  {
   "cell_type": "code",
   "execution_count": 391,
   "metadata": {},
   "outputs": [
    {
     "name": "stdout",
     "output_type": "stream",
     "text": [
      "[2, 0, 1]\n",
      "1 th male is engaged to  3 th women\n",
      "[1, 0, 2]\n",
      "2 th male is engaged to  2 th women\n",
      "[2, 1, 0]\n",
      "3 th male proposed  3 th women but she likes  0  th male more with whom she is engaged\n",
      "3 th male proposed  2 th women but she likes  1  th male more with whom she is engaged\n",
      "3 th male is engaged to  1 th women\n",
      "Stable\n"
     ]
    }
   ],
   "source": [
    "engagements=0\n",
    "n=len(men)\n",
    "mflag=0 #  flag showing that all are married \n",
    "\n",
    "while engagements<n and mflag==0:\n",
    "    mflag=1\n",
    "    maleindex=0\n",
    "    for maleindex in range(len(men)):\n",
    "        if men[maleindex]==-1:\n",
    "            mflag=0\n",
    "            break\n",
    "    manpreflist=pm[maleindex]\n",
    "    print(manpreflist)\n",
    "    for womenindex in manpreflist:\n",
    "        if men[maleindex]!=-1:\n",
    "            break\n",
    "        prefwoman=women[womenindex]\n",
    "        if women[womenindex]==-1:\n",
    "            engagements+=1\n",
    "            women[womenindex]=maleindex\n",
    "            men[maleindex]=womenindex\n",
    "            print(maleindex+1,\"th male is engaged to \",womenindex+1,\"th women\")\n",
    "        else:\n",
    "            Womengedmale=women[womenindex]\n",
    "            if pw[womenindex].index(Womengedmale) < pw[womenindex].index(maleindex):  #It means more priority\n",
    "                print(maleindex+1,\"th male proposed \",womenindex+1,\"th women but she likes \",Womengedmale ,\" th male more with whom she is engaged\")\n",
    "                pass\n",
    "            else:\n",
    "                women[womenindex]=maleindex\n",
    "                men[maleindex]=womenindex\n",
    "                men[Womengedmale]=-1\n",
    "                print(maleindex+1,\"th male is engaged to \",womenindex+1,\"th women\")\n",
    "\n",
    "\n",
    "print(\"Stable\")            \n",
    "        "
   ]
  },
  {
   "cell_type": "markdown",
   "metadata": {},
   "source": [
    "## Unstability check"
   ]
  },
  {
   "cell_type": "code",
   "execution_count": 392,
   "metadata": {},
   "outputs": [
    {
     "name": "stdout",
     "output_type": "stream",
     "text": [
      "[2, 0, 1]\n",
      "[1, 0, 2]\n",
      "[2, 1, 0]\n",
      "Instable\n",
      "3 th male wanted  3  th women but got  1  th women\n",
      "Instable\n",
      "3 th male wanted  2  th women but got  1  th women\n"
     ]
    }
   ],
   "source": [
    "for maleindex in range(len(men)):\n",
    "    currentlymarried=men[maleindex]\n",
    "    preferencelist=pm[maleindex]\n",
    "    print(preferencelist)\n",
    "    marrwomindex=preferencelist.index(currentlymarried)\n",
    "    for womprefindex in range(len(preferencelist)):\n",
    "#         womenp=preferencelist[womprefindex]\n",
    "#         print(maleindex+1,\"'s Preference is \",womenp+1,\"Married to \",currentlymarried+1)\n",
    "        if womprefindex<marrwomindex:\n",
    "            print(\"Instable\")\n",
    "            womenp=preferencelist[womprefindex]\n",
    "            print(maleindex+1 ,\"th male wanted \",womenp+1 ,\" th women but got \",currentlymarried+1,\" th women\")\n",
    "        else:\n",
    "#             print(\"No instability\")\n",
    "            pass"
   ]
  },
  {
   "cell_type": "code",
   "execution_count": 393,
   "metadata": {},
   "outputs": [
    {
     "name": "stdout",
     "output_type": "stream",
     "text": [
      "Instable\n",
      "1 th women wanted  1  th man but got  3  th man\n",
      "Instable\n",
      "1 th women wanted  2  th man but got  3  th man\n"
     ]
    }
   ],
   "source": [
    "for womenindex in range(len(women)):\n",
    "    currentlymarried=women[womenindex]\n",
    "    preferencelist=pw[womenindex]\n",
    "    marrmanindex=preferencelist.index(currentlymarried)\n",
    "    for menprefindex in range(len(preferencelist)):\n",
    "#         menp=preferencelist[menprefindex]\n",
    "#         print(womenindex+1,\"'s Preference is \",menp+1,\" th man but got Married to \",currentlymarried+1)        \n",
    "        if menprefindex<marrmanindex:\n",
    "            print(\"Instable\")\n",
    "            menp=preferencelist[menprefindex]\n",
    "            print(womenindex+1 ,\"th women wanted \",menp+1 ,\" th man but got \",currentlymarried+1,\" th man\")\n",
    "        else:\n",
    "#             print(\"No instability\")\n",
    "            pass"
   ]
  },
  {
   "cell_type": "code",
   "execution_count": null,
   "metadata": {},
   "outputs": [],
   "source": []
  },
  {
   "cell_type": "code",
   "execution_count": 397,
   "metadata": {},
   "outputs": [],
   "source": [
    "pw=[[1,2,3,4],[1,2,3,4],[1,2,3,4],[1,2,3,4]]\n",
    "pm=[[4,2,3,1],[2,1,3,4],[1,2,3,4],[1,2,3,4]]"
   ]
  },
  {
   "cell_type": "code",
   "execution_count": 398,
   "metadata": {},
   "outputs": [],
   "source": [
    "men=[-1]*4\n",
    "women=[-1]*4\n"
   ]
  },
  {
   "cell_type": "code",
   "execution_count": 399,
   "metadata": {},
   "outputs": [
    {
     "name": "stdout",
     "output_type": "stream",
     "text": [
      "3   1\n",
      "[-1, -1, -1, 1]\n",
      "1 th male is engaged to  4 th women\n",
      "1   2\n",
      "[-1, 2, -1, 1]\n",
      "2 th male is engaged to  2 th women\n",
      "0   3\n",
      "[3, 2, -1, 1]\n",
      "3 th male is engaged to  1 th women\n",
      "4 th male proposed  1 th women but she likes  3  th male more with whom she is engaged\n",
      "4 th male proposed  2 th women but she likes  2  th male more with whom she is engaged\n",
      "2   4\n",
      "[3, 2, 4, 1]\n",
      "4 th male is engaged to  3 th women\n",
      "[4, 2, 1, 3]\n",
      "[3, 2, 4, 1]\n",
      "Stable\n"
     ]
    }
   ],
   "source": [
    "engagements=0\n",
    "n=len(men)\n",
    "mflag=0 #  flag showing that all are married \n",
    "\n",
    "while engagements<n and mflag==0:\n",
    "    mflag=1\n",
    "    maleindex=0\n",
    "    for maleindex in range(len(men)):\n",
    "        if men[maleindex]==-1:\n",
    "            mflag=0\n",
    "            break\n",
    "    manpreflist=pm[maleindex]\n",
    "#     print(manpreflist)\n",
    "    for windex in manpreflist:\n",
    "        womenindex=windex-1\n",
    "        if men[maleindex]!=-1:\n",
    "            break\n",
    "        prefwoman=women[womenindex]\n",
    "        if women[womenindex]==-1:\n",
    "            engagements+=1\n",
    "            print(womenindex,\" \",maleindex+1)\n",
    "            women[womenindex]=maleindex+1\n",
    "            print(women)\n",
    "            men[maleindex]=womenindex+1\n",
    "            print(maleindex+1,\"th male is engaged to \",womenindex+1,\"th women\")\n",
    "        else:\n",
    "            Womengedmale=women[womenindex]\n",
    "            if pw[womenindex].index(Womengedmale) < pw[womenindex].index(maleindex+1):  #It means more priority\n",
    "                print(maleindex+1,\"th male proposed \",womenindex+1,\"th women but she likes \",Womengedmale ,\" th male more with whom she is engaged\")\n",
    "                pass\n",
    "            else:\n",
    "                women[womenindex]=maleindex+1\n",
    "                men[maleindex]=womenindex+1\n",
    "                men[Womengedmale]=-1\n",
    "                print(women)\n",
    "                print(maleindex+1,\"th male is engaged to \",womenindex+1,\"th women\")\n",
    "\n",
    "print(men)\n",
    "print(women)\n",
    "print(\"Stable\")            \n",
    "   "
   ]
  },
  {
   "cell_type": "code",
   "execution_count": 400,
   "metadata": {},
   "outputs": [
    {
     "name": "stdout",
     "output_type": "stream",
     "text": [
      "[4, 2, 1, 3]\n",
      "[3, 2, 4, 1]\n"
     ]
    }
   ],
   "source": [
    "print(men)\n",
    "print(women)"
   ]
  },
  {
   "cell_type": "code",
   "execution_count": 401,
   "metadata": {},
   "outputs": [
    {
     "name": "stdout",
     "output_type": "stream",
     "text": [
      "[4, 2, 3, 1]\n",
      "[2, 1, 3, 4]\n",
      "[1, 2, 3, 4]\n",
      "[1, 2, 3, 4]\n",
      "Instable\n",
      "4 th male wanted  1  th women but got  3  th women\n",
      "Instable\n",
      "4 th male wanted  2  th women but got  3  th women\n"
     ]
    }
   ],
   "source": [
    "for maleindex in range(len(men)):\n",
    "    currentlymarried=men[maleindex]\n",
    "#     print(currentlymarried)\n",
    "    preferencelist=pm[maleindex]\n",
    "    print(preferencelist)\n",
    "    marrwomindex=preferencelist.index(currentlymarried)\n",
    "    for womprefindex in range(len(preferencelist)):\n",
    "#         womenp=preferencelist[womprefindex]\n",
    "#         print(maleindex+1,\"'s Preference is \",womenp+1,\"Married to \",currentlymarried+1)\n",
    "        if womprefindex<marrwomindex:\n",
    "            print(\"Instable\")\n",
    "            womenp=preferencelist[womprefindex]\n",
    "            print(maleindex+1 ,\"th male wanted \",womenp ,\" th women but got \",currentlymarried,\" th women\")\n",
    "        else:\n",
    "#             print(\"No instability\")\n",
    "            pass"
   ]
  },
  {
   "cell_type": "code",
   "execution_count": 402,
   "metadata": {},
   "outputs": [
    {
     "name": "stdout",
     "output_type": "stream",
     "text": [
      "Instable\n",
      "1 th women wanted  1  th man but got  3  th man\n",
      "Instable\n",
      "1 th women wanted  2  th man but got  3  th man\n",
      "Instable\n",
      "2 th women wanted  1  th man but got  2  th man\n",
      "Instable\n",
      "3 th women wanted  1  th man but got  4  th man\n",
      "Instable\n",
      "3 th women wanted  2  th man but got  4  th man\n",
      "Instable\n",
      "3 th women wanted  3  th man but got  4  th man\n"
     ]
    }
   ],
   "source": [
    "for womenindex in range(len(women)):\n",
    "    currentlymarried=women[womenindex]\n",
    "    preferencelist=pw[womenindex]\n",
    "    marrmanindex=preferencelist.index(currentlymarried)\n",
    "    for menprefindex in range(len(preferencelist)):\n",
    "#         menp=preferencelist[menprefindex]\n",
    "#         print(womenindex+1,\"'s Preference is \",menp+1,\" th man but got Married to \",currentlymarried+1)        \n",
    "        if menprefindex<marrmanindex:\n",
    "            print(\"Instable\")\n",
    "            menp=preferencelist[menprefindex]\n",
    "            print(womenindex+1 ,\"th women wanted \",menp ,\" th man but got \",currentlymarried,\" th man\")\n",
    "        else:\n",
    "#             print(\"No instability\")\n",
    "            pass"
   ]
  },
  {
   "cell_type": "code",
   "execution_count": null,
   "metadata": {},
   "outputs": [],
   "source": []
  }
 ],
 "metadata": {
  "kernelspec": {
   "display_name": "Python 3",
   "language": "python",
   "name": "python3"
  },
  "language_info": {
   "codemirror_mode": {
    "name": "ipython",
    "version": 3
   },
   "file_extension": ".py",
   "mimetype": "text/x-python",
   "name": "python",
   "nbconvert_exporter": "python",
   "pygments_lexer": "ipython3",
   "version": "3.6.1"
  }
 },
 "nbformat": 4,
 "nbformat_minor": 2
}
